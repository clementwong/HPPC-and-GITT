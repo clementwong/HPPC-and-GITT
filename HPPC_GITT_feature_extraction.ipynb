{
 "cells": [
  {
   "cell_type": "markdown",
   "id": "dd09d4e3",
   "metadata": {},
   "source": [
    "# Extract Resistances (Rs and R1) from HPPC and GITT tests\n",
    "\n",
    "Created 11/6/22\n",
    "\n",
    "Authors: Clement Wong"
   ]
  },
  {
   "cell_type": "code",
   "execution_count": 1,
   "id": "7dae03f1",
   "metadata": {},
   "outputs": [],
   "source": [
    "import numpy as np\n",
    "import pandas as pd\n",
    "import matplotlib.pyplot as plt"
   ]
  },
  {
   "cell_type": "markdown",
   "id": "402a9b48",
   "metadata": {},
   "source": [
    "# For HPPC"
   ]
  },
  {
   "cell_type": "markdown",
   "id": "285e661d",
   "metadata": {},
   "source": [
    "### Load Data"
   ]
  },
  {
   "cell_type": "code",
   "execution_count": 2,
   "id": "f8a9e76e",
   "metadata": {},
   "outputs": [],
   "source": [
    "HPPC_file ='HPPC_drill_packs.csv'\n",
    "HPPC_df = pd.read_csv(HPPC_file)"
   ]
  },
  {
   "cell_type": "code",
   "execution_count": 3,
   "id": "c422b2dc",
   "metadata": {},
   "outputs": [
    {
     "data": {
      "text/html": [
       "<div>\n",
       "<style scoped>\n",
       "    .dataframe tbody tr th:only-of-type {\n",
       "        vertical-align: middle;\n",
       "    }\n",
       "\n",
       "    .dataframe tbody tr th {\n",
       "        vertical-align: top;\n",
       "    }\n",
       "\n",
       "    .dataframe thead th {\n",
       "        text-align: right;\n",
       "    }\n",
       "</style>\n",
       "<table border=\"1\" class=\"dataframe\">\n",
       "  <thead>\n",
       "    <tr style=\"text-align: right;\">\n",
       "      <th></th>\n",
       "      <th>Unnamed: 0</th>\n",
       "      <th>elapsed time</th>\n",
       "      <th>Pack Current FB</th>\n",
       "      <th>qCct</th>\n",
       "      <th>Voltage1</th>\n",
       "      <th>Voltage2</th>\n",
       "      <th>Voltage3</th>\n",
       "      <th>Voltage4</th>\n",
       "      <th>Voltage5</th>\n",
       "      <th>soc</th>\n",
       "    </tr>\n",
       "  </thead>\n",
       "  <tbody>\n",
       "    <tr>\n",
       "      <th>0</th>\n",
       "      <td>0</td>\n",
       "      <td>0.0</td>\n",
       "      <td>-0.722</td>\n",
       "      <td>6.0</td>\n",
       "      <td>4.190494</td>\n",
       "      <td>4.197848</td>\n",
       "      <td>4.202481</td>\n",
       "      <td>4.201134</td>\n",
       "      <td>4.199902</td>\n",
       "      <td>1.0</td>\n",
       "    </tr>\n",
       "    <tr>\n",
       "      <th>1</th>\n",
       "      <td>1</td>\n",
       "      <td>0.1</td>\n",
       "      <td>-1.500</td>\n",
       "      <td>6.0</td>\n",
       "      <td>4.179817</td>\n",
       "      <td>4.189735</td>\n",
       "      <td>4.191938</td>\n",
       "      <td>4.191270</td>\n",
       "      <td>4.188257</td>\n",
       "      <td>1.0</td>\n",
       "    </tr>\n",
       "    <tr>\n",
       "      <th>2</th>\n",
       "      <td>2</td>\n",
       "      <td>0.2</td>\n",
       "      <td>-1.500</td>\n",
       "      <td>6.0</td>\n",
       "      <td>4.179590</td>\n",
       "      <td>4.189503</td>\n",
       "      <td>4.191671</td>\n",
       "      <td>4.190978</td>\n",
       "      <td>4.188015</td>\n",
       "      <td>1.0</td>\n",
       "    </tr>\n",
       "    <tr>\n",
       "      <th>3</th>\n",
       "      <td>3</td>\n",
       "      <td>0.3</td>\n",
       "      <td>-1.500</td>\n",
       "      <td>6.0</td>\n",
       "      <td>4.179379</td>\n",
       "      <td>4.189277</td>\n",
       "      <td>4.191503</td>\n",
       "      <td>4.190820</td>\n",
       "      <td>4.187779</td>\n",
       "      <td>1.0</td>\n",
       "    </tr>\n",
       "    <tr>\n",
       "      <th>4</th>\n",
       "      <td>4</td>\n",
       "      <td>0.4</td>\n",
       "      <td>-1.500</td>\n",
       "      <td>6.0</td>\n",
       "      <td>4.179184</td>\n",
       "      <td>4.189120</td>\n",
       "      <td>4.191316</td>\n",
       "      <td>4.190657</td>\n",
       "      <td>4.187609</td>\n",
       "      <td>1.0</td>\n",
       "    </tr>\n",
       "  </tbody>\n",
       "</table>\n",
       "</div>"
      ],
      "text/plain": [
       "   Unnamed: 0  elapsed time  Pack Current FB  qCct  Voltage1  Voltage2  \\\n",
       "0           0           0.0           -0.722   6.0  4.190494  4.197848   \n",
       "1           1           0.1           -1.500   6.0  4.179817  4.189735   \n",
       "2           2           0.2           -1.500   6.0  4.179590  4.189503   \n",
       "3           3           0.3           -1.500   6.0  4.179379  4.189277   \n",
       "4           4           0.4           -1.500   6.0  4.179184  4.189120   \n",
       "\n",
       "   Voltage3  Voltage4  Voltage5  soc  \n",
       "0  4.202481  4.201134  4.199902  1.0  \n",
       "1  4.191938  4.191270  4.188257  1.0  \n",
       "2  4.191671  4.190978  4.188015  1.0  \n",
       "3  4.191503  4.190820  4.187779  1.0  \n",
       "4  4.191316  4.190657  4.187609  1.0  "
      ]
     },
     "execution_count": 3,
     "metadata": {},
     "output_type": "execute_result"
    }
   ],
   "source": [
    "HPPC_df.head()"
   ]
  },
  {
   "cell_type": "code",
   "execution_count": 4,
   "id": "a78c3aa0",
   "metadata": {},
   "outputs": [],
   "source": [
    "voltage_column = 'Voltage1'\n",
    "current_column = 'Pack Current FB'\n",
    "soc_column = 'soc'\n",
    "time_column = 'elapsed time'\n",
    "\n",
    "voltage_list = HPPC_df[voltage_column].tolist()\n",
    "current_list= HPPC_df[current_column ].tolist()\n",
    "soc_list= HPPC_df[soc_column].tolist()\n",
    "time_list = HPPC_df[time_column].tolist()"
   ]
  },
  {
   "cell_type": "markdown",
   "id": "1c50e9c9",
   "metadata": {},
   "source": [
    "### Extract Resistances (Rs, R1, OCV) from HPPC with their respective SOC values"
   ]
  },
  {
   "cell_type": "code",
   "execution_count": 5,
   "id": "158783ce",
   "metadata": {},
   "outputs": [],
   "source": [
    "def resistance_HPPC(voltage_list, current_list, soc_list, time_list, current_step, tol = .05, charge = True): \n",
    "    d = {'Voltage': voltage_list, 'Current': current_list, 'SOC': soc_list, 'Time': time_list}\n",
    "    \n",
    "    df = pd.DataFrame(data=d)\n",
    "    df ['current_diff'] = [0] +np.diff(df['Current']).tolist()\n",
    "    \n",
    "    \n",
    "    if (charge):\n",
    "        t_f = df[(df['current_diff']<-(current_step-current_step*tol))& (df['current_diff']>-(current_step+current_step*tol))].index\n",
    "    else:\n",
    "        t_f = df[(df['current_diff']>(current_step - current_step*tol)) & (df['current_diff']<(current_step + current_step*tol)) ].index                   \n",
    "    \n",
    "    t_i = t_f-1\n",
    "    \n",
    "    #indices for t_relaxed\n",
    "    t_relaxed = list()\n",
    "    for t_f_index in t_f: \n",
    "        df_after_pulse = df.loc[t_f_index+1: ]    \n",
    "        t_relaxed = t_relaxed +[df_after_pulse[abs(df_after_pulse['current_diff'])> 0].index[0]-1]\n",
    "        \n",
    "    delta_V_Rs =np.array(df.loc[t_f, 'Voltage'])-np.array(df.loc[t_i, 'Voltage'])\n",
    "    delta_I_Rs = np.array(df.loc[t_f, 'Current'])-np.array(df.loc[t_i, 'Current']) \n",
    "    Rs = delta_V_Rs/delta_I_Rs\n",
    "    SOC_Rs = df.loc[t_f, 'SOC']\n",
    "    \n",
    "    \n",
    "    \n",
    "##   Plots for Debugging \n",
    "    fig, ax = plt.subplots()\n",
    "    ax.plot(df['Time'], df['Current'])\n",
    "    ax.scatter(df.loc[t_i, 'Time'], df.loc[t_i, 'Current'], color = 'g')\n",
    "    ax.scatter(df.loc[t_f, 'Time'], df.loc[t_f, 'Current'], color = 'm')\n",
    "    ax.scatter(df.loc[t_relaxed , 'Time'], df.loc[t_relaxed , 'Current'], color = 'r')\n",
    "    ax.set_xlabel ('Time (s)')\n",
    "    ax.set_ylabel('Current(A)')\n",
    "##   Plots for Debugging\n",
    "    \n",
    "    delta_V_Rc =np.array(df.loc[t_relaxed, 'Voltage'])-np.array(df.loc[t_i, 'Voltage'])\n",
    "    delta_I_Rc= np.array(df.loc[t_relaxed, 'Current'])-np.array(df.loc[t_i, 'Current'])\n",
    "    Rc = delta_V_Rc/delta_I_Rc\n",
    "    SOC_Rc = df.loc[t_relaxed, 'SOC']\n",
    "    \n",
    "    \n",
    "    \n",
    "    OCV = df.loc[t_relaxed, 'Voltage']\n",
    "    SOC_OCV  = df.loc[t_relaxed, 'SOC']\n",
    "\n",
    "    \n",
    "    return (SOC_Rs, Rs, SOC_Rc, Rc, SOC_OCV, OCV)\n",
    "\n",
    "\n",
    "\n",
    "    \n",
    "    \n"
   ]
  },
  {
   "cell_type": "code",
   "execution_count": 6,
   "id": "ab6a29d7",
   "metadata": {},
   "outputs": [
    {
     "data": {
      "image/png": "[encoded data removed]",
      "text/plain": [
       "<Figure size 432x288 with 1 Axes>"
      ]
     },
     "metadata": {
      "needs_background": "light"
     },
     "output_type": "display_data"
    }
   ],
   "source": [
    "SOC_Rs, Rs, SOC_Rc, Rc, SOC_OCV, OCV = resistance_HPPC(voltage_list, current_list, soc_list, time_list,  1.5, tol = .05, charge= False)"
   ]
  },
  {
   "cell_type": "markdown",
   "id": "7d42ee45",
   "metadata": {},
   "source": [
    "# Plots"
   ]
  },
  {
   "cell_type": "code",
   "execution_count": 7,
   "id": "c4709f8b",
   "metadata": {},
   "outputs": [
    {
     "data": {
      "text/plain": [
       "Text(0, 0.5, 'Rs ($\\\\Omega$)')"
      ]
     },
     "execution_count": 7,
     "metadata": {},
     "output_type": "execute_result"
    },
    {
     "data": {
      "image/png": "[encoded data removed]",
      "text/plain": [
       "<Figure size 432x288 with 1 Axes>"
      ]
     },
     "metadata": {
      "needs_background": "light"
     },
     "output_type": "display_data"
    }
   ],
   "source": [
    "fig, ax = plt.subplots()\n",
    "ax.scatter(SOC_Rs, Rs)\n",
    "ax.set_xlabel('SOC')\n",
    "ax.set_ylabel('Rs ($\\Omega$)')"
   ]
  },
  {
   "cell_type": "code",
   "execution_count": 8,
   "id": "bc4c1f59",
   "metadata": {},
   "outputs": [
    {
     "data": {
      "text/plain": [
       "Text(0, 0.5, 'R1 ($\\\\Omega$)')"
      ]
     },
     "execution_count": 8,
     "metadata": {},
     "output_type": "execute_result"
    },
    {
     "data": {
      "image/png": "[encoded data removed]",
      "text/plain": [
       "<Figure size 432x288 with 1 Axes>"
      ]
     },
     "metadata": {
      "needs_background": "light"
     },
     "output_type": "display_data"
    }
   ],
   "source": [
    "fig, ax = plt.subplots()\n",
    "ax.scatter(SOC_Rc, Rc)\n",
    "ax.set_xlabel('SOC')\n",
    "ax.set_ylabel('R1 ($\\Omega$)')"
   ]
  },
  {
   "cell_type": "code",
   "execution_count": 9,
   "id": "b6ed1b4f",
   "metadata": {},
   "outputs": [
    {
     "data": {
      "text/plain": [
       "Text(0, 0.5, 'OCV')"
      ]
     },
     "execution_count": 9,
     "metadata": {},
     "output_type": "execute_result"
    },
    {
     "data": {
      "image/png": "[encoded data removed]",
      "text/plain": [
       "<Figure size 432x288 with 1 Axes>"
      ]
     },
     "metadata": {
      "needs_background": "light"
     },
     "output_type": "display_data"
    }
   ],
   "source": [
    "fig, ax = plt.subplots()\n",
    "ax.scatter(SOC_OCV, OCV )\n",
    "ax.set_xlabel('SOC')\n",
    "ax.set_ylabel('OCV')"
   ]
  },
  {
   "cell_type": "markdown",
   "id": "a295603f",
   "metadata": {},
   "source": [
    "# For GITT (basically same algorithm & code as HPPC but different variables)"
   ]
  },
  {
   "cell_type": "markdown",
   "id": "e9a0e40e",
   "metadata": {},
   "source": [
    "### Load Data"
   ]
  },
  {
   "cell_type": "code",
   "execution_count": 10,
   "id": "9b8f9db9",
   "metadata": {},
   "outputs": [],
   "source": [
    "GITT_charge ='GITT_charge.csv'\n",
    "GITT_discharge = 'GITT_discharge.csv'\n",
    "GITT_file = GITT_charge\n",
    "GITT_df = pd.read_csv(GITT_file)"
   ]
  },
  {
   "cell_type": "code",
   "execution_count": 11,
   "id": "3e32856d",
   "metadata": {},
   "outputs": [
    {
     "data": {
      "text/html": [
       "<div>\n",
       "<style scoped>\n",
       "    .dataframe tbody tr th:only-of-type {\n",
       "        vertical-align: middle;\n",
       "    }\n",
       "\n",
       "    .dataframe tbody tr th {\n",
       "        vertical-align: top;\n",
       "    }\n",
       "\n",
       "    .dataframe thead th {\n",
       "        text-align: right;\n",
       "    }\n",
       "</style>\n",
       "<table border=\"1\" class=\"dataframe\">\n",
       "  <thead>\n",
       "    <tr style=\"text-align: right;\">\n",
       "      <th></th>\n",
       "      <th>Unnamed: 0</th>\n",
       "      <th>mode</th>\n",
       "      <th>ox/red</th>\n",
       "      <th>error</th>\n",
       "      <th>control changes</th>\n",
       "      <th>Ns changes</th>\n",
       "      <th>counter inc.</th>\n",
       "      <th>Ns</th>\n",
       "      <th>I Range</th>\n",
       "      <th>time/s</th>\n",
       "      <th>...</th>\n",
       "      <th>Capacity/mA.h</th>\n",
       "      <th>Efficiency/%</th>\n",
       "      <th>control/V</th>\n",
       "      <th>control/mA</th>\n",
       "      <th>cycle number</th>\n",
       "      <th>P/W</th>\n",
       "      <th>R/Ohm</th>\n",
       "      <th>Unnamed: 33</th>\n",
       "      <th>current_diff</th>\n",
       "      <th>y</th>\n",
       "    </tr>\n",
       "  </thead>\n",
       "  <tbody>\n",
       "    <tr>\n",
       "      <th>0</th>\n",
       "      <td>12</td>\n",
       "      <td>1</td>\n",
       "      <td>0</td>\n",
       "      <td>0</td>\n",
       "      <td>0</td>\n",
       "      <td>0</td>\n",
       "      <td>0</td>\n",
       "      <td>1</td>\n",
       "      <td>116</td>\n",
       "      <td>120.016006</td>\n",
       "      <td>...</td>\n",
       "      <td>1.112703e-07</td>\n",
       "      <td>0.0</td>\n",
       "      <td>0.0</td>\n",
       "      <td>0.2</td>\n",
       "      <td>0.0</td>\n",
       "      <td>0.000550</td>\n",
       "      <td>13715.040</td>\n",
       "      <td>NaN</td>\n",
       "      <td>0.200287</td>\n",
       "      <td>1.000000</td>\n",
       "    </tr>\n",
       "    <tr>\n",
       "      <th>1</th>\n",
       "      <td>13</td>\n",
       "      <td>1</td>\n",
       "      <td>1</td>\n",
       "      <td>0</td>\n",
       "      <td>0</td>\n",
       "      <td>1</td>\n",
       "      <td>0</td>\n",
       "      <td>1</td>\n",
       "      <td>116</td>\n",
       "      <td>120.018006</td>\n",
       "      <td>...</td>\n",
       "      <td>2.224968e-07</td>\n",
       "      <td>0.0</td>\n",
       "      <td>0.0</td>\n",
       "      <td>0.2</td>\n",
       "      <td>0.0</td>\n",
       "      <td>0.000550</td>\n",
       "      <td>13722.797</td>\n",
       "      <td>NaN</td>\n",
       "      <td>-0.000079</td>\n",
       "      <td>1.000000</td>\n",
       "    </tr>\n",
       "    <tr>\n",
       "      <th>2</th>\n",
       "      <td>14</td>\n",
       "      <td>1</td>\n",
       "      <td>1</td>\n",
       "      <td>0</td>\n",
       "      <td>0</td>\n",
       "      <td>0</td>\n",
       "      <td>0</td>\n",
       "      <td>1</td>\n",
       "      <td>116</td>\n",
       "      <td>120.032006</td>\n",
       "      <td>...</td>\n",
       "      <td>1.001159e-06</td>\n",
       "      <td>0.0</td>\n",
       "      <td>0.0</td>\n",
       "      <td>0.2</td>\n",
       "      <td>0.0</td>\n",
       "      <td>0.000550</td>\n",
       "      <td>13735.532</td>\n",
       "      <td>NaN</td>\n",
       "      <td>-0.000039</td>\n",
       "      <td>1.000000</td>\n",
       "    </tr>\n",
       "    <tr>\n",
       "      <th>3</th>\n",
       "      <td>15</td>\n",
       "      <td>1</td>\n",
       "      <td>1</td>\n",
       "      <td>0</td>\n",
       "      <td>0</td>\n",
       "      <td>0</td>\n",
       "      <td>0</td>\n",
       "      <td>1</td>\n",
       "      <td>116</td>\n",
       "      <td>120.052006</td>\n",
       "      <td>...</td>\n",
       "      <td>2.113523e-06</td>\n",
       "      <td>0.0</td>\n",
       "      <td>0.0</td>\n",
       "      <td>0.2</td>\n",
       "      <td>0.0</td>\n",
       "      <td>0.000551</td>\n",
       "      <td>13733.604</td>\n",
       "      <td>NaN</td>\n",
       "      <td>0.000177</td>\n",
       "      <td>1.000000</td>\n",
       "    </tr>\n",
       "    <tr>\n",
       "      <th>4</th>\n",
       "      <td>16</td>\n",
       "      <td>1</td>\n",
       "      <td>1</td>\n",
       "      <td>0</td>\n",
       "      <td>0</td>\n",
       "      <td>0</td>\n",
       "      <td>0</td>\n",
       "      <td>1</td>\n",
       "      <td>116</td>\n",
       "      <td>120.080006</td>\n",
       "      <td>...</td>\n",
       "      <td>3.671011e-06</td>\n",
       "      <td>0.0</td>\n",
       "      <td>0.0</td>\n",
       "      <td>0.2</td>\n",
       "      <td>0.0</td>\n",
       "      <td>0.000552</td>\n",
       "      <td>13741.125</td>\n",
       "      <td>NaN</td>\n",
       "      <td>0.000039</td>\n",
       "      <td>0.999999</td>\n",
       "    </tr>\n",
       "  </tbody>\n",
       "</table>\n",
       "<p>5 rows × 37 columns</p>\n",
       "</div>"
      ],
      "text/plain": [
       "   Unnamed: 0  mode  ox/red  error  control changes  Ns changes  counter inc.  \\\n",
       "0          12     1       0      0                0           0             0   \n",
       "1          13     1       1      0                0           1             0   \n",
       "2          14     1       1      0                0           0             0   \n",
       "3          15     1       1      0                0           0             0   \n",
       "4          16     1       1      0                0           0             0   \n",
       "\n",
       "   Ns  I Range      time/s  ...  Capacity/mA.h  Efficiency/%  control/V  \\\n",
       "0   1      116  120.016006  ...   1.112703e-07           0.0        0.0   \n",
       "1   1      116  120.018006  ...   2.224968e-07           0.0        0.0   \n",
       "2   1      116  120.032006  ...   1.001159e-06           0.0        0.0   \n",
       "3   1      116  120.052006  ...   2.113523e-06           0.0        0.0   \n",
       "4   1      116  120.080006  ...   3.671011e-06           0.0        0.0   \n",
       "\n",
       "   control/mA  cycle number       P/W      R/Ohm  Unnamed: 33  current_diff  \\\n",
       "0         0.2           0.0  0.000550  13715.040          NaN      0.200287   \n",
       "1         0.2           0.0  0.000550  13722.797          NaN     -0.000079   \n",
       "2         0.2           0.0  0.000550  13735.532          NaN     -0.000039   \n",
       "3         0.2           0.0  0.000551  13733.604          NaN      0.000177   \n",
       "4         0.2           0.0  0.000552  13741.125          NaN      0.000039   \n",
       "\n",
       "          y  \n",
       "0  1.000000  \n",
       "1  1.000000  \n",
       "2  1.000000  \n",
       "3  1.000000  \n",
       "4  0.999999  \n",
       "\n",
       "[5 rows x 37 columns]"
      ]
     },
     "execution_count": 11,
     "metadata": {},
     "output_type": "execute_result"
    }
   ],
   "source": [
    "GITT_df.head()"
   ]
  },
  {
   "cell_type": "code",
   "execution_count": 12,
   "id": "e7aaa754",
   "metadata": {},
   "outputs": [],
   "source": [
    "voltage_column ='Ecell/V'\n",
    "current_column = 'I/mA' \n",
    "y_column = 'y' \n",
    "time_column = 'time/s'\n",
    "\n",
    "voltage_list = GITT_df[voltage_column].tolist()\n",
    "current_list= (GITT_df[current_column ]/1000).tolist() #converted mA to A\n",
    "y_list= GITT_df[y_column].tolist()\n",
    "time_list= GITT_df[time_column].tolist()"
   ]
  },
  {
   "cell_type": "markdown",
   "id": "c41cc1ce",
   "metadata": {},
   "source": [
    "### Extract Resistances (Rs, R1, OCV) from GITT with their respective y values"
   ]
  },
  {
   "cell_type": "code",
   "execution_count": 13,
   "id": "53de0f28",
   "metadata": {},
   "outputs": [],
   "source": [
    "def resistance_GITT(voltage_list, current_list, y_list, time_list, current_step, tol = .05, charge = True): \n",
    "    d = {'Voltage': voltage_list, 'Current': current_list, 'y': y_list, 'Time': time_list}\n",
    "    \n",
    "    df = pd.DataFrame(data=d)\n",
    "    df ['current_diff'] = [0] +np.diff(df['Current']).tolist()\n",
    "    \n",
    "    \n",
    "    if (charge):\n",
    "        t_f = df[(df['current_diff']<-(current_step-current_step*tol))& (df['current_diff']>-(current_step+current_step*tol))].index\n",
    "    else:\n",
    "        t_f = df[(df['current_diff']>(current_step - current_step*tol)) & (df['current_diff']<(current_step + current_step*tol)) ].index                   \n",
    "    \n",
    "    t_i = t_f-1\n",
    "    \n",
    "    #indices for t_relaxed\n",
    "    t_relaxed = list()\n",
    "    for t_f_index in t_f: \n",
    "        df_after_pulse = df.loc[t_f_index+1: ]    \n",
    "        t_relaxed = t_relaxed +[df_after_pulse[abs(df_after_pulse['current_diff'])> 0].index[0]-1]\n",
    "        \n",
    "    delta_V_Rs =np.array(df.loc[t_f, 'Voltage'])-np.array(df.loc[t_i, 'Voltage'])\n",
    "    delta_I_Rs = np.array(df.loc[t_f, 'Current'])-np.array(df.loc[t_i, 'Current']) \n",
    "    Rs = delta_V_Rs/delta_I_Rs\n",
    "    y_Rs = df.loc[t_f, 'y']\n",
    "    \n",
    "    \n",
    "    \n",
    "##   Plots for Debugging \n",
    "    fig, ax = plt.subplots()\n",
    "    ax.plot(df['Time'], df['Current'])\n",
    "    ax.scatter(df.loc[t_i, 'Time'], df.loc[t_i, 'Current'], color = 'g')\n",
    "    ax.scatter(df.loc[t_f, 'Time'], df.loc[t_f, 'Current'], color = 'm')\n",
    "    ax.scatter(df.loc[t_relaxed , 'Time'], df.loc[t_relaxed , 'Current'], color = 'r')\n",
    "    ax.set_xlabel ('Time (s)')\n",
    "    ax.set_ylabel('Current (A)')\n",
    "##   Plots for Debugging\n",
    "    \n",
    "    delta_V_Rc =np.array(df.loc[t_relaxed, 'Voltage'])-np.array(df.loc[t_i, 'Voltage'])\n",
    "    delta_I_Rc= np.array(df.loc[t_relaxed, 'Current'])-np.array(df.loc[t_i, 'Current'])\n",
    "    Rc = delta_V_Rc/delta_I_Rc\n",
    "    y_Rc = df.loc[t_relaxed, 'y']\n",
    "    \n",
    "    \n",
    "    \n",
    "    OCV = df.loc[t_relaxed, 'Voltage']\n",
    "    y_OCV  = df.loc[t_relaxed, 'y']\n",
    "\n",
    "    \n",
    "    return (y_Rs, Rs, y_Rc, Rc, y_OCV, OCV)\n",
    "\n",
    "\n",
    "\n",
    "    \n",
    "    \n"
   ]
  },
  {
   "cell_type": "code",
   "execution_count": 14,
   "id": "18adc763",
   "metadata": {},
   "outputs": [
    {
     "data": {
      "image/png": "[encoded data removed]",
      "text/plain": [
       "<Figure size 432x288 with 1 Axes>"
      ]
     },
     "metadata": {
      "needs_background": "light"
     },
     "output_type": "display_data"
    }
   ],
   "source": [
    "y_Rs, Rs, y_Rc, Rc, y_OCV, OCV = resistance_GITT(voltage_list, current_list, y_list, time_list,  .2/1000, tol = .05, charge= True)"
   ]
  },
  {
   "cell_type": "markdown",
   "id": "d582c12e",
   "metadata": {},
   "source": [
    "# Plots"
   ]
  },
  {
   "cell_type": "code",
   "execution_count": 15,
   "id": "9a904d5e",
   "metadata": {},
   "outputs": [
    {
     "data": {
      "text/plain": [
       "Text(0, 0.5, 'Rs ($\\\\Omega$)')"
      ]
     },
     "execution_count": 15,
     "metadata": {},
     "output_type": "execute_result"
    },
    {
     "data": {
      "image/png": "[encoded data removed]",
      "text/plain": [
       "<Figure size 432x288 with 1 Axes>"
      ]
     },
     "metadata": {
      "needs_background": "light"
     },
     "output_type": "display_data"
    }
   ],
   "source": [
    "fig, ax = plt.subplots()\n",
    "ax.scatter(y_Rs, Rs)\n",
    "ax.set_xlabel('y')\n",
    "ax.set_ylabel('Rs ($\\Omega$)')"
   ]
  },
  {
   "cell_type": "code",
   "execution_count": 16,
   "id": "8314bd8f",
   "metadata": {},
   "outputs": [
    {
     "data": {
      "text/plain": [
       "Text(0, 0.5, 'R1 ($\\\\Omega$)')"
      ]
     },
     "execution_count": 16,
     "metadata": {},
     "output_type": "execute_result"
    },
    {
     "data": {
      "image/png": "[encoded data removed]",
      "text/plain": [
       "<Figure size 432x288 with 1 Axes>"
      ]
     },
     "metadata": {
      "needs_background": "light"
     },
     "output_type": "display_data"
    }
   ],
   "source": [
    "fig, ax = plt.subplots()\n",
    "ax.scatter(y_Rc, Rc)\n",
    "ax.set_xlabel('y')\n",
    "ax.set_ylabel('R1 ($\\Omega$)')"
   ]
  },
  {
   "cell_type": "code",
   "execution_count": 17,
   "id": "ec5005a3",
   "metadata": {},
   "outputs": [
    {
     "data": {
      "text/plain": [
       "Text(0, 0.5, 'OCV ')"
      ]
     },
     "execution_count": 17,
     "metadata": {},
     "output_type": "execute_result"
    },
    {
     "data": {
      "image/png": "[encoded data removed]",
      "text/plain": [
       "<Figure size 432x288 with 1 Axes>"
      ]
     },
     "metadata": {
      "needs_background": "light"
     },
     "output_type": "display_data"
    }
   ],
   "source": [
    "fig, ax = plt.subplots()\n",
    "ax.scatter(y_OCV, OCV )\n",
    "ax.set_xlabel('y')\n",
    "ax.set_ylabel('OCV ')"
   ]
  },
  {
   "cell_type": "code",
   "execution_count": null,
   "id": "8f99dc78",
   "metadata": {},
   "outputs": [],
   "source": []
  },
  {
   "cell_type": "code",
   "execution_count": null,
   "id": "eaa4c4fc",
   "metadata": {},
   "outputs": [],
   "source": []
  }
 ],
 "metadata": {
  "kernelspec": {
   "display_name": "Python 3 (ipykernel)",
   "language": "python",
   "name": "python3"
  },
  "language_info": {
   "codemirror_mode": {
    "name": "ipython",
    "version": 3
   },
   "file_extension": ".py",
   "mimetype": "text/x-python",
   "name": "python",
   "nbconvert_exporter": "python",
   "pygments_lexer": "ipython3",
   "version": "3.9.12"
  }
 },
 "nbformat": 4,
 "nbformat_minor": 5
}
